{
 "cells": [
  {
   "cell_type": "markdown",
   "id": "c78f31ba",
   "metadata": {},
   "source": [
    "# Assignment 2(due on 11/08)\n",
    "\n",
    "## Student:姜天赐（12332290），Gtihub：Tcjiang2023\n",
    "## 批改人：张鹏\n",
    "\n",
    "\n",
    "## 得分：48/50"
   ]
  },
  {
   "cell_type": "markdown",
   "id": "80c577d3",
   "metadata": {},
   "source": [
    "### 1 Significant earthquakes since 2150 B.C."
   ]
  },
  {
   "cell_type": "code",
   "execution_count": 1,
   "id": "3bae773b",
   "metadata": {},
   "outputs": [],
   "source": [
    "import numpy as np\n",
    "import xarray as xr\n",
    "import pandas as pd\n",
    "from matplotlib import pyplot as plt\n",
    "%matplotlib inline"
   ]
  },
  {
   "cell_type": "code",
   "execution_count": 2,
   "id": "310f53d3",
   "metadata": {},
   "outputs": [
    {
     "data": {
      "text/html": [
       "<div>\n",
       "<style scoped>\n",
       "    .dataframe tbody tr th:only-of-type {\n",
       "        vertical-align: middle;\n",
       "    }\n",
       "\n",
       "    .dataframe tbody tr th {\n",
       "        vertical-align: top;\n",
       "    }\n",
       "\n",
       "    .dataframe thead th {\n",
       "        text-align: right;\n",
       "    }\n",
       "</style>\n",
       "<table border=\"1\" class=\"dataframe\">\n",
       "  <thead>\n",
       "    <tr style=\"text-align: right;\">\n",
       "      <th></th>\n",
       "      <th>Search Parameters</th>\n",
       "      <th>Year</th>\n",
       "      <th>Mo</th>\n",
       "      <th>Dy</th>\n",
       "      <th>Hr</th>\n",
       "      <th>Country</th>\n",
       "      <th>Mag</th>\n",
       "      <th>Deaths</th>\n",
       "    </tr>\n",
       "  </thead>\n",
       "  <tbody>\n",
       "    <tr>\n",
       "      <th>6394</th>\n",
       "      <td>NaN</td>\n",
       "      <td>2023.0</td>\n",
       "      <td>10.0</td>\n",
       "      <td>7.0</td>\n",
       "      <td>8.0</td>\n",
       "      <td>PAPUA NEW GUINEA</td>\n",
       "      <td>6.9</td>\n",
       "      <td>NaN</td>\n",
       "    </tr>\n",
       "    <tr>\n",
       "      <th>6395</th>\n",
       "      <td>NaN</td>\n",
       "      <td>2023.0</td>\n",
       "      <td>10.0</td>\n",
       "      <td>7.0</td>\n",
       "      <td>6.0</td>\n",
       "      <td>AFGHANISTAN</td>\n",
       "      <td>6.3</td>\n",
       "      <td>1480.0</td>\n",
       "    </tr>\n",
       "    <tr>\n",
       "      <th>6396</th>\n",
       "      <td>NaN</td>\n",
       "      <td>2023.0</td>\n",
       "      <td>10.0</td>\n",
       "      <td>8.0</td>\n",
       "      <td>20.0</td>\n",
       "      <td>JAPAN</td>\n",
       "      <td>4.9</td>\n",
       "      <td>NaN</td>\n",
       "    </tr>\n",
       "    <tr>\n",
       "      <th>6397</th>\n",
       "      <td>NaN</td>\n",
       "      <td>2023.0</td>\n",
       "      <td>10.0</td>\n",
       "      <td>11.0</td>\n",
       "      <td>0.0</td>\n",
       "      <td>AFGHANISTAN</td>\n",
       "      <td>6.3</td>\n",
       "      <td>3.0</td>\n",
       "    </tr>\n",
       "    <tr>\n",
       "      <th>6398</th>\n",
       "      <td>NaN</td>\n",
       "      <td>2023.0</td>\n",
       "      <td>10.0</td>\n",
       "      <td>15.0</td>\n",
       "      <td>3.0</td>\n",
       "      <td>AFGHANISTAN</td>\n",
       "      <td>6.3</td>\n",
       "      <td>4.0</td>\n",
       "    </tr>\n",
       "  </tbody>\n",
       "</table>\n",
       "</div>"
      ],
      "text/plain": [
       "     Search Parameters    Year    Mo    Dy    Hr           Country  Mag  \\\n",
       "6394               NaN  2023.0  10.0   7.0   8.0  PAPUA NEW GUINEA  6.9   \n",
       "6395               NaN  2023.0  10.0   7.0   6.0       AFGHANISTAN  6.3   \n",
       "6396               NaN  2023.0  10.0   8.0  20.0             JAPAN  4.9   \n",
       "6397               NaN  2023.0  10.0  11.0   0.0       AFGHANISTAN  6.3   \n",
       "6398               NaN  2023.0  10.0  15.0   3.0       AFGHANISTAN  6.3   \n",
       "\n",
       "      Deaths  \n",
       "6394     NaN  \n",
       "6395  1480.0  \n",
       "6396     NaN  \n",
       "6397     3.0  \n",
       "6398     4.0  "
      ]
     },
     "execution_count": 2,
     "metadata": {},
     "output_type": "execute_result"
    }
   ],
   "source": [
    "#1.1\n",
    "\n",
    "\n",
    "Sig_Eqs = pd.read_csv('earthquakes-2023-11-04_01-46-34_+0800.tsv', sep='\\t')\n",
    "Sig_Eqs.tail()\n"
   ]
  },
  {
   "cell_type": "code",
   "execution_count": 3,
   "id": "bb653c21",
   "metadata": {},
   "outputs": [
    {
     "name": "stdout",
     "output_type": "stream",
     "text": [
      "Country\n",
      "CHINA         2075045.0\n",
      "TURKEY        1188881.0\n",
      "IRAN          1011449.0\n",
      "ITALY          498478.0\n",
      "SYRIA          439224.0\n",
      "HAITI          323478.0\n",
      "AZERBAIJAN     317219.0\n",
      "JAPAN          279085.0\n",
      "ARMENIA        191890.0\n",
      "PAKISTAN       145083.0\n",
      "Name: Deaths, dtype: float64\n"
     ]
    }
   ],
   "source": [
    "# Death number in each country \n",
    "Death_num = Sig_Eqs.groupby('Country').sum().sort_values('Deaths', ascending=False)\n",
    "print(Death_num['Deaths'].head(10))"
   ]
  },
  {
   "cell_type": "code",
   "execution_count": 4,
   "id": "d6e97886",
   "metadata": {},
   "outputs": [
    {
     "data": {
      "text/plain": [
       "<Axes: xlabel='Year'>"
      ]
     },
     "execution_count": 4,
     "metadata": {},
     "output_type": "execute_result"
    },
    {
     "data": {
      "image/png": "[encoded data removed]",
      "text/plain": [
       "<Figure size 640x480 with 1 Axes>"
      ]
     },
     "metadata": {},
     "output_type": "display_data"
    }
   ],
   "source": [
    "#1.2\n",
    "\n",
    "Big_Eqs = Sig_Eqs.loc[Sig_Eqs['Mag'] > 6.0]\n",
    "\n",
    "Big_Eqs.groupby('Year').describe()['Mag']['count'].plot()"
   ]
  },
  {
   "cell_type": "code",
   "execution_count": 5,
   "id": "78d1b8a7",
   "metadata": {},
   "outputs": [
    {
     "data": {
      "text/html": [
       "<div>\n",
       "<style scoped>\n",
       "    .dataframe tbody tr th:only-of-type {\n",
       "        vertical-align: middle;\n",
       "    }\n",
       "\n",
       "    .dataframe tbody tr th {\n",
       "        vertical-align: top;\n",
       "    }\n",
       "\n",
       "    .dataframe thead th {\n",
       "        text-align: right;\n",
       "    }\n",
       "</style>\n",
       "<table border=\"1\" class=\"dataframe\">\n",
       "  <thead>\n",
       "    <tr style=\"text-align: right;\">\n",
       "      <th></th>\n",
       "      <th>Search Parameters</th>\n",
       "      <th>Year</th>\n",
       "      <th>Mo</th>\n",
       "      <th>Dy</th>\n",
       "      <th>Hr</th>\n",
       "      <th>Country</th>\n",
       "      <th>Mag</th>\n",
       "      <th>Deaths</th>\n",
       "    </tr>\n",
       "  </thead>\n",
       "  <tbody>\n",
       "    <tr>\n",
       "      <th>0</th>\n",
       "      <td>[]</td>\n",
       "      <td>-1.0</td>\n",
       "      <td>-1.0</td>\n",
       "      <td>-1.0</td>\n",
       "      <td>-1.0</td>\n",
       "      <td>-1</td>\n",
       "      <td>-1.0</td>\n",
       "      <td>-1.0</td>\n",
       "    </tr>\n",
       "    <tr>\n",
       "      <th>1</th>\n",
       "      <td>-1</td>\n",
       "      <td>-2150.0</td>\n",
       "      <td>-1.0</td>\n",
       "      <td>-1.0</td>\n",
       "      <td>-1.0</td>\n",
       "      <td>JORDAN</td>\n",
       "      <td>7.3</td>\n",
       "      <td>-1.0</td>\n",
       "    </tr>\n",
       "    <tr>\n",
       "      <th>2</th>\n",
       "      <td>-1</td>\n",
       "      <td>-2000.0</td>\n",
       "      <td>-1.0</td>\n",
       "      <td>-1.0</td>\n",
       "      <td>-1.0</td>\n",
       "      <td>SYRIA</td>\n",
       "      <td>-1.0</td>\n",
       "      <td>-1.0</td>\n",
       "    </tr>\n",
       "    <tr>\n",
       "      <th>3</th>\n",
       "      <td>-1</td>\n",
       "      <td>-2000.0</td>\n",
       "      <td>-1.0</td>\n",
       "      <td>-1.0</td>\n",
       "      <td>-1.0</td>\n",
       "      <td>TURKMENISTAN</td>\n",
       "      <td>7.1</td>\n",
       "      <td>1.0</td>\n",
       "    </tr>\n",
       "    <tr>\n",
       "      <th>4</th>\n",
       "      <td>-1</td>\n",
       "      <td>-1610.0</td>\n",
       "      <td>-1.0</td>\n",
       "      <td>-1.0</td>\n",
       "      <td>-1.0</td>\n",
       "      <td>GREECE</td>\n",
       "      <td>-1.0</td>\n",
       "      <td>-1.0</td>\n",
       "    </tr>\n",
       "    <tr>\n",
       "      <th>...</th>\n",
       "      <td>...</td>\n",
       "      <td>...</td>\n",
       "      <td>...</td>\n",
       "      <td>...</td>\n",
       "      <td>...</td>\n",
       "      <td>...</td>\n",
       "      <td>...</td>\n",
       "      <td>...</td>\n",
       "    </tr>\n",
       "    <tr>\n",
       "      <th>6394</th>\n",
       "      <td>-1</td>\n",
       "      <td>2023.0</td>\n",
       "      <td>10.0</td>\n",
       "      <td>7.0</td>\n",
       "      <td>8.0</td>\n",
       "      <td>PAPUA NEW GUINEA</td>\n",
       "      <td>6.9</td>\n",
       "      <td>-1.0</td>\n",
       "    </tr>\n",
       "    <tr>\n",
       "      <th>6395</th>\n",
       "      <td>-1</td>\n",
       "      <td>2023.0</td>\n",
       "      <td>10.0</td>\n",
       "      <td>7.0</td>\n",
       "      <td>6.0</td>\n",
       "      <td>AFGHANISTAN</td>\n",
       "      <td>6.3</td>\n",
       "      <td>1480.0</td>\n",
       "    </tr>\n",
       "    <tr>\n",
       "      <th>6396</th>\n",
       "      <td>-1</td>\n",
       "      <td>2023.0</td>\n",
       "      <td>10.0</td>\n",
       "      <td>8.0</td>\n",
       "      <td>20.0</td>\n",
       "      <td>JAPAN</td>\n",
       "      <td>4.9</td>\n",
       "      <td>-1.0</td>\n",
       "    </tr>\n",
       "    <tr>\n",
       "      <th>6397</th>\n",
       "      <td>-1</td>\n",
       "      <td>2023.0</td>\n",
       "      <td>10.0</td>\n",
       "      <td>11.0</td>\n",
       "      <td>0.0</td>\n",
       "      <td>AFGHANISTAN</td>\n",
       "      <td>6.3</td>\n",
       "      <td>3.0</td>\n",
       "    </tr>\n",
       "    <tr>\n",
       "      <th>6398</th>\n",
       "      <td>-1</td>\n",
       "      <td>2023.0</td>\n",
       "      <td>10.0</td>\n",
       "      <td>15.0</td>\n",
       "      <td>3.0</td>\n",
       "      <td>AFGHANISTAN</td>\n",
       "      <td>6.3</td>\n",
       "      <td>4.0</td>\n",
       "    </tr>\n",
       "  </tbody>\n",
       "</table>\n",
       "<p>6399 rows × 8 columns</p>\n",
       "</div>"
      ],
      "text/plain": [
       "     Search Parameters    Year    Mo    Dy    Hr           Country  Mag  \\\n",
       "0                   []    -1.0  -1.0  -1.0  -1.0                -1 -1.0   \n",
       "1                   -1 -2150.0  -1.0  -1.0  -1.0            JORDAN  7.3   \n",
       "2                   -1 -2000.0  -1.0  -1.0  -1.0             SYRIA -1.0   \n",
       "3                   -1 -2000.0  -1.0  -1.0  -1.0      TURKMENISTAN  7.1   \n",
       "4                   -1 -1610.0  -1.0  -1.0  -1.0            GREECE -1.0   \n",
       "...                ...     ...   ...   ...   ...               ...  ...   \n",
       "6394                -1  2023.0  10.0   7.0   8.0  PAPUA NEW GUINEA  6.9   \n",
       "6395                -1  2023.0  10.0   7.0   6.0       AFGHANISTAN  6.3   \n",
       "6396                -1  2023.0  10.0   8.0  20.0             JAPAN  4.9   \n",
       "6397                -1  2023.0  10.0  11.0   0.0       AFGHANISTAN  6.3   \n",
       "6398                -1  2023.0  10.0  15.0   3.0       AFGHANISTAN  6.3   \n",
       "\n",
       "      Deaths  \n",
       "0       -1.0  \n",
       "1       -1.0  \n",
       "2       -1.0  \n",
       "3        1.0  \n",
       "4       -1.0  \n",
       "...      ...  \n",
       "6394    -1.0  \n",
       "6395  1480.0  \n",
       "6396    -1.0  \n",
       "6397     3.0  \n",
       "6398     4.0  \n",
       "\n",
       "[6399 rows x 8 columns]"
      ]
     },
     "execution_count": 5,
     "metadata": {},
     "output_type": "execute_result"
    }
   ],
   "source": [
    "#1.3\n",
    "\n",
    "Sig_Eqs.fillna(-1, inplace = True)\n",
    "Sig_Eqs"
   ]
  },
  {
   "cell_type": "code",
   "execution_count": 6,
   "id": "fa387397",
   "metadata": {},
   "outputs": [
    {
     "data": {
      "text/html": [
       "<div>\n",
       "<style scoped>\n",
       "    .dataframe tbody tr th:only-of-type {\n",
       "        vertical-align: middle;\n",
       "    }\n",
       "\n",
       "    .dataframe tbody tr th {\n",
       "        vertical-align: top;\n",
       "    }\n",
       "\n",
       "    .dataframe thead th {\n",
       "        text-align: right;\n",
       "    }\n",
       "</style>\n",
       "<table border=\"1\" class=\"dataframe\">\n",
       "  <thead>\n",
       "    <tr style=\"text-align: right;\">\n",
       "      <th></th>\n",
       "      <th>Country</th>\n",
       "      <th>Count</th>\n",
       "    </tr>\n",
       "  </thead>\n",
       "  <tbody>\n",
       "    <tr>\n",
       "      <th>0</th>\n",
       "      <td>CHINA</td>\n",
       "      <td>620</td>\n",
       "    </tr>\n",
       "    <tr>\n",
       "      <th>1</th>\n",
       "      <td>JAPAN</td>\n",
       "      <td>414</td>\n",
       "    </tr>\n",
       "    <tr>\n",
       "      <th>2</th>\n",
       "      <td>INDONESIA</td>\n",
       "      <td>411</td>\n",
       "    </tr>\n",
       "    <tr>\n",
       "      <th>3</th>\n",
       "      <td>IRAN</td>\n",
       "      <td>384</td>\n",
       "    </tr>\n",
       "    <tr>\n",
       "      <th>4</th>\n",
       "      <td>TURKEY</td>\n",
       "      <td>335</td>\n",
       "    </tr>\n",
       "    <tr>\n",
       "      <th>...</th>\n",
       "      <td>...</td>\n",
       "      <td>...</td>\n",
       "    </tr>\n",
       "    <tr>\n",
       "      <th>152</th>\n",
       "      <td>SUDAN</td>\n",
       "      <td>1</td>\n",
       "    </tr>\n",
       "    <tr>\n",
       "      <th>153</th>\n",
       "      <td>SRI LANKA</td>\n",
       "      <td>1</td>\n",
       "    </tr>\n",
       "    <tr>\n",
       "      <th>154</th>\n",
       "      <td>NORWAY</td>\n",
       "      <td>1</td>\n",
       "    </tr>\n",
       "    <tr>\n",
       "      <th>155</th>\n",
       "      <td>PALAU</td>\n",
       "      <td>1</td>\n",
       "    </tr>\n",
       "    <tr>\n",
       "      <th>156</th>\n",
       "      <td>ZAMBIA</td>\n",
       "      <td>1</td>\n",
       "    </tr>\n",
       "  </tbody>\n",
       "</table>\n",
       "<p>157 rows × 2 columns</p>\n",
       "</div>"
      ],
      "text/plain": [
       "       Country  Count\n",
       "0        CHINA    620\n",
       "1        JAPAN    414\n",
       "2    INDONESIA    411\n",
       "3         IRAN    384\n",
       "4       TURKEY    335\n",
       "..         ...    ...\n",
       "152      SUDAN      1\n",
       "153  SRI LANKA      1\n",
       "154     NORWAY      1\n",
       "155      PALAU      1\n",
       "156     ZAMBIA      1\n",
       "\n",
       "[157 rows x 2 columns]"
      ]
     },
     "execution_count": 6,
     "metadata": {},
     "output_type": "execute_result"
    }
   ],
   "source": [
    "Sig_Eqs_Count_byYear = Sig_Eqs.groupby('Country')['Year'].count().sort_values(ascending=False).to_frame().reset_index()\n",
    "Sig_Eqs_Count_byYear = Sig_Eqs_Count_byYear.rename(columns={'Year':'Count'})\n",
    "Sig_Eqs_Count_byYear"
   ]
  },
  {
   "cell_type": "code",
   "execution_count": 7,
   "id": "4bc108c0",
   "metadata": {},
   "outputs": [
    {
     "data": {
      "text/html": [
       "<div>\n",
       "<style scoped>\n",
       "    .dataframe tbody tr th:only-of-type {\n",
       "        vertical-align: middle;\n",
       "    }\n",
       "\n",
       "    .dataframe tbody tr th {\n",
       "        vertical-align: top;\n",
       "    }\n",
       "\n",
       "    .dataframe thead th {\n",
       "        text-align: right;\n",
       "    }\n",
       "</style>\n",
       "<table border=\"1\" class=\"dataframe\">\n",
       "  <thead>\n",
       "    <tr style=\"text-align: right;\">\n",
       "      <th></th>\n",
       "      <th>Year</th>\n",
       "      <th>Mo</th>\n",
       "      <th>Dy</th>\n",
       "      <th>Country</th>\n",
       "    </tr>\n",
       "  </thead>\n",
       "  <tbody>\n",
       "    <tr>\n",
       "      <th>6315</th>\n",
       "      <td>2021.0</td>\n",
       "      <td>10.0</td>\n",
       "      <td>12.0</td>\n",
       "      <td>-1</td>\n",
       "    </tr>\n",
       "    <tr>\n",
       "      <th>2727</th>\n",
       "      <td>1909.0</td>\n",
       "      <td>7.0</td>\n",
       "      <td>7.0</td>\n",
       "      <td>AFGHANISTAN</td>\n",
       "    </tr>\n",
       "    <tr>\n",
       "      <th>2395</th>\n",
       "      <td>1893.0</td>\n",
       "      <td>6.0</td>\n",
       "      <td>14.0</td>\n",
       "      <td>ALBANIA</td>\n",
       "    </tr>\n",
       "    <tr>\n",
       "      <th>4449</th>\n",
       "      <td>1980.0</td>\n",
       "      <td>10.0</td>\n",
       "      <td>10.0</td>\n",
       "      <td>ALGERIA</td>\n",
       "    </tr>\n",
       "    <tr>\n",
       "      <th>5010</th>\n",
       "      <td>1998.0</td>\n",
       "      <td>3.0</td>\n",
       "      <td>25.0</td>\n",
       "      <td>ANTARCTICA</td>\n",
       "    </tr>\n",
       "    <tr>\n",
       "      <th>...</th>\n",
       "      <td>...</td>\n",
       "      <td>...</td>\n",
       "      <td>...</td>\n",
       "      <td>...</td>\n",
       "    </tr>\n",
       "    <tr>\n",
       "      <th>2409</th>\n",
       "      <td>1894.0</td>\n",
       "      <td>4.0</td>\n",
       "      <td>29.0</td>\n",
       "      <td>VENEZUELA</td>\n",
       "    </tr>\n",
       "    <tr>\n",
       "      <th>3323</th>\n",
       "      <td>1935.0</td>\n",
       "      <td>11.0</td>\n",
       "      <td>1.0</td>\n",
       "      <td>VIETNAM</td>\n",
       "    </tr>\n",
       "    <tr>\n",
       "      <th>4864</th>\n",
       "      <td>1993.0</td>\n",
       "      <td>3.0</td>\n",
       "      <td>12.0</td>\n",
       "      <td>WALLIS AND FUTUNA (FRENCH TERRITORY)</td>\n",
       "    </tr>\n",
       "    <tr>\n",
       "      <th>4500</th>\n",
       "      <td>1982.0</td>\n",
       "      <td>12.0</td>\n",
       "      <td>13.0</td>\n",
       "      <td>YEMEN</td>\n",
       "    </tr>\n",
       "    <tr>\n",
       "      <th>6064</th>\n",
       "      <td>2017.0</td>\n",
       "      <td>2.0</td>\n",
       "      <td>24.0</td>\n",
       "      <td>ZAMBIA</td>\n",
       "    </tr>\n",
       "  </tbody>\n",
       "</table>\n",
       "<p>157 rows × 4 columns</p>\n",
       "</div>"
      ],
      "text/plain": [
       "        Year    Mo    Dy                               Country\n",
       "6315  2021.0  10.0  12.0                                    -1\n",
       "2727  1909.0   7.0   7.0                           AFGHANISTAN\n",
       "2395  1893.0   6.0  14.0                               ALBANIA\n",
       "4449  1980.0  10.0  10.0                               ALGERIA\n",
       "5010  1998.0   3.0  25.0                            ANTARCTICA\n",
       "...      ...   ...   ...                                   ...\n",
       "2409  1894.0   4.0  29.0                             VENEZUELA\n",
       "3323  1935.0  11.0   1.0                               VIETNAM\n",
       "4864  1993.0   3.0  12.0  WALLIS AND FUTUNA (FRENCH TERRITORY)\n",
       "4500  1982.0  12.0  13.0                                 YEMEN\n",
       "6064  2017.0   2.0  24.0                                ZAMBIA\n",
       "\n",
       "[157 rows x 4 columns]"
      ]
     },
     "execution_count": 7,
     "metadata": {},
     "output_type": "execute_result"
    }
   ],
   "source": [
    "Lar_eq = Sig_Eqs.groupby('Country')['Mag'].idxmax()\n",
    "Lar_eq = Sig_Eqs.loc[Lar_eq][['Year','Mo','Dy','Country']]\n",
    "Lar_eq"
   ]
  },
  {
   "cell_type": "code",
   "execution_count": 8,
   "id": "88325a0d",
   "metadata": {},
   "outputs": [
    {
     "data": {
      "text/html": [
       "<div>\n",
       "<style scoped>\n",
       "    .dataframe tbody tr th:only-of-type {\n",
       "        vertical-align: middle;\n",
       "    }\n",
       "\n",
       "    .dataframe tbody tr th {\n",
       "        vertical-align: top;\n",
       "    }\n",
       "\n",
       "    .dataframe thead th {\n",
       "        text-align: right;\n",
       "    }\n",
       "</style>\n",
       "<table border=\"1\" class=\"dataframe\">\n",
       "  <thead>\n",
       "    <tr style=\"text-align: right;\">\n",
       "      <th></th>\n",
       "      <th>Count</th>\n",
       "      <th>Year</th>\n",
       "      <th>Mo</th>\n",
       "      <th>Dy</th>\n",
       "    </tr>\n",
       "    <tr>\n",
       "      <th>Country</th>\n",
       "      <th></th>\n",
       "      <th></th>\n",
       "      <th></th>\n",
       "      <th></th>\n",
       "    </tr>\n",
       "  </thead>\n",
       "  <tbody>\n",
       "    <tr>\n",
       "      <th>CHINA</th>\n",
       "      <td>620</td>\n",
       "      <td>1668.0</td>\n",
       "      <td>7.0</td>\n",
       "      <td>25.0</td>\n",
       "    </tr>\n",
       "    <tr>\n",
       "      <th>JAPAN</th>\n",
       "      <td>414</td>\n",
       "      <td>2011.0</td>\n",
       "      <td>3.0</td>\n",
       "      <td>11.0</td>\n",
       "    </tr>\n",
       "    <tr>\n",
       "      <th>INDONESIA</th>\n",
       "      <td>411</td>\n",
       "      <td>2004.0</td>\n",
       "      <td>12.0</td>\n",
       "      <td>26.0</td>\n",
       "    </tr>\n",
       "    <tr>\n",
       "      <th>IRAN</th>\n",
       "      <td>384</td>\n",
       "      <td>856.0</td>\n",
       "      <td>12.0</td>\n",
       "      <td>22.0</td>\n",
       "    </tr>\n",
       "    <tr>\n",
       "      <th>TURKEY</th>\n",
       "      <td>335</td>\n",
       "      <td>1939.0</td>\n",
       "      <td>12.0</td>\n",
       "      <td>26.0</td>\n",
       "    </tr>\n",
       "    <tr>\n",
       "      <th>...</th>\n",
       "      <td>...</td>\n",
       "      <td>...</td>\n",
       "      <td>...</td>\n",
       "      <td>...</td>\n",
       "    </tr>\n",
       "    <tr>\n",
       "      <th>SUDAN</th>\n",
       "      <td>1</td>\n",
       "      <td>1993.0</td>\n",
       "      <td>8.0</td>\n",
       "      <td>1.0</td>\n",
       "    </tr>\n",
       "    <tr>\n",
       "      <th>SRI LANKA</th>\n",
       "      <td>1</td>\n",
       "      <td>1882.0</td>\n",
       "      <td>1.0</td>\n",
       "      <td>-1.0</td>\n",
       "    </tr>\n",
       "    <tr>\n",
       "      <th>NORWAY</th>\n",
       "      <td>1</td>\n",
       "      <td>1819.0</td>\n",
       "      <td>8.0</td>\n",
       "      <td>31.0</td>\n",
       "    </tr>\n",
       "    <tr>\n",
       "      <th>PALAU</th>\n",
       "      <td>1</td>\n",
       "      <td>1914.0</td>\n",
       "      <td>10.0</td>\n",
       "      <td>23.0</td>\n",
       "    </tr>\n",
       "    <tr>\n",
       "      <th>ZAMBIA</th>\n",
       "      <td>1</td>\n",
       "      <td>2017.0</td>\n",
       "      <td>2.0</td>\n",
       "      <td>24.0</td>\n",
       "    </tr>\n",
       "  </tbody>\n",
       "</table>\n",
       "<p>157 rows × 4 columns</p>\n",
       "</div>"
      ],
      "text/plain": [
       "           Count    Year    Mo    Dy\n",
       "Country                             \n",
       "CHINA        620  1668.0   7.0  25.0\n",
       "JAPAN        414  2011.0   3.0  11.0\n",
       "INDONESIA    411  2004.0  12.0  26.0\n",
       "IRAN         384   856.0  12.0  22.0\n",
       "TURKEY       335  1939.0  12.0  26.0\n",
       "...          ...     ...   ...   ...\n",
       "SUDAN          1  1993.0   8.0   1.0\n",
       "SRI LANKA      1  1882.0   1.0  -1.0\n",
       "NORWAY         1  1819.0   8.0  31.0\n",
       "PALAU          1  1914.0  10.0  23.0\n",
       "ZAMBIA         1  2017.0   2.0  24.0\n",
       "\n",
       "[157 rows x 4 columns]"
      ]
     },
     "execution_count": 8,
     "metadata": {},
     "output_type": "execute_result"
    }
   ],
   "source": [
    "eq_count_year = pd.merge(Sig_Eqs_Count_byYear, Lar_eq,on = ['Country'])\n",
    "eq_count_year = eq_count_year.set_index('Country')            \n",
    "eq_count_year"
   ]
  },
  {
   "cell_type": "code",
   "execution_count": 9,
   "id": "3056f022",
   "metadata": {},
   "outputs": [],
   "source": [
    "def CountEq_LargestEq(Country):\n",
    "    Country = Country.upper()\n",
    "    count = eq_count_year.loc[Country]['Count']\n",
    "    year = eq_count_year.loc[Country]['Year']\n",
    "    month = eq_count_year.loc[Country]['Mo']\n",
    "    day = eq_count_year.loc[Country]['Dy']\n",
    "    print('The number of earthquake in ' + Country + ' is ' + str(int(count)) + ', the date of largest earthquake is ' + str(int(year)) + '-' + str(int(month)) + '-' + str(int(day)))\n",
    "    print('P.S. if there are \\'-1\\' in the date, it means the data has lost')"
   ]
  },
  {
   "cell_type": "code",
   "execution_count": 10,
   "id": "b0e8285f",
   "metadata": {},
   "outputs": [
    {
     "name": "stdout",
     "output_type": "stream",
     "text": [
      "The number of earthquake in SRI LANKA is 1, the date of largest earthquake is 1882-1--1\n",
      "P.S. if there are '-1' in the date, it means the data has lost\n"
     ]
    }
   ],
   "source": [
    "CountEq_LargestEq('SRI LANKA')"
   ]
  },
  {
   "cell_type": "code",
   "execution_count": 23,
   "id": "80f77d89",
   "metadata": {},
   "outputs": [
    {
     "data": {
      "image/png": "[encoded data removed]",
      "text/plain": [
       "<Figure size 1000x600 with 1 Axes>"
      ]
     },
     "metadata": {},
     "output_type": "display_data"
    }
   ],
   "source": [
    "#1.2 助教添加\n",
    "# 筛选出震级大于6.0的地震\n",
    "large_quakes = Sig_Eqs[Sig_Eqs['Mag'] > 6.0]\n",
    "\n",
    "# 按年份对数据进行分组，并得到每年的地震次数\n",
    "quakes_by_year = large_quakes.groupby('Year')['Mag'].count()\n",
    "\n",
    "plt.figure(figsize=(10, 6))\n",
    "plt.vlines(quakes_by_year.index, ymin=0, ymax=quakes_by_year.values, color='blue', linewidth=2)\n",
    "plt.xlabel('Year', fontsize=14)\n",
    "plt.ylabel('Number of earthquakes with magnitude > 6.0', fontsize=14)\n",
    "plt.title('Number of Earthquakes with Magnitude > 6.0 Worldwide Each Year', fontsize=16)\n",
    "plt.tick_params(axis='both', which='major', labelsize=12)\n",
    "\n",
    "# Displaying the plot\n",
    "plt.show()"
   ]
  },
  {
   "cell_type": "markdown",
   "id": "aeefb4d2",
   "metadata": {},
   "source": [
    "### 第一题代码运行正常，可以输出正确结果，报告中也展示了输出内容，也针对问题给出文字分析 第二问绘图有一点点问题，建议绘制竖线图，见上面代码助教添加代码\n",
    "\n",
    "\n",
    "### 得分：24/25\n",
    "### --------------------------------------------------------------------------------------------"
   ]
  },
  {
   "cell_type": "markdown",
   "id": "e1011bbf",
   "metadata": {},
   "source": [
    "###  2. Wind speed in Shenzhen during the past 10 years"
   ]
  },
  {
   "cell_type": "code",
   "execution_count": 11,
   "id": "f921b984",
   "metadata": {},
   "outputs": [
    {
     "name": "stderr",
     "output_type": "stream",
     "text": [
      "/tmp/ipykernel_411525/1900297180.py:1: DtypeWarning: Columns (4,8,9,12,15,21,22,24,26,31,33,34) have mixed types. Specify dtype option on import or set low_memory=False.\n",
      "  wind_speed = pd.read_csv('2281305.csv')[['DATE','WND']]\n"
     ]
    },
    {
     "data": {
      "text/plain": [
       "<matplotlib.legend.Legend at 0x7fb088301ed0>"
      ]
     },
     "execution_count": 11,
     "metadata": {},
     "output_type": "execute_result"
    },
    {
     "data": {
      "image/png": "[encoded data removed]",
      "text/plain": [
       "<Figure size 640x480 with 1 Axes>"
      ]
     },
     "metadata": {},
     "output_type": "display_data"
    }
   ],
   "source": [
    "\n",
    "wind_speed = pd.read_csv('2281305.csv')[['DATE','WND']]\n",
    "\n",
    "\n",
    "temp = wind_speed['WND'].str.split(',', expand = True)\n",
    "wind_speed = pd.merge(wind_speed, temp, left_index = True, right_index = True)\n",
    "wind_speed = wind_speed.rename(columns={0:'WD', 1:'WD_QC', 2:'OB', 3:'WS', 4:'WS_QC'})\n",
    "\n",
    "# Calcul the true wind speed\n",
    "wind_speed['WS'] = wind_speed['WS'].astype(int).div(10)\n",
    "\n",
    "wind_speed['date'] = pd.to_datetime(wind_speed['DATE'])\n",
    "wind_speed = wind_speed.drop(columns = ['DATE'])\n",
    "wind_speed = wind_speed.set_index('date')\n",
    "\n",
    "wind_speed_fil = wind_speed.loc[wind_speed['WS'] != 999.9]\n",
    "wind_speed_fil\n",
    "\n",
    "monthly_wind_speed = wind_speed_fil.resample('M')['WS'].mean()\n",
    "monthly_wind_speed\n",
    "\n",
    "monthly_wind_speed.plot()\n",
    "plt.xlabel('Time')\n",
    "plt.ylabel('Wind Speed (m/s)')\n",
    "plt.legend()"
   ]
  },
  {
   "cell_type": "markdown",
   "id": "fdf8cd9b",
   "metadata": {},
   "source": [
    "### 第二题代码运行正常，可以输出正确结果。报告中展现了代码和结果，但没有对总体趋势 Is there a trend in monthly averaged wind speed within the past 10 years?的描述。\n",
    "\n",
    "### 得分9/10\n",
    "### ---------------------------------------------------------------------------------------------"
   ]
  },
  {
   "cell_type": "markdown",
   "id": "89ce4594",
   "metadata": {},
   "source": [
    "###  3. Explore a data set"
   ]
  },
  {
   "cell_type": "code",
   "execution_count": 15,
   "id": "8d702b92",
   "metadata": {},
   "outputs": [
    {
     "data": {
      "text/plain": [
       "<matplotlib.legend.Legend at 0x7fb08720bfa0>"
      ]
     },
     "execution_count": 15,
     "metadata": {},
     "output_type": "execute_result"
    },
    {
     "data": {
      "image/png": "[encoded data removed]",
      "text/plain": [
       "<Figure size 640x480 with 1 Axes>"
      ]
     },
     "metadata": {},
     "output_type": "display_data"
    }
   ],
   "source": [
    "#3.1\n",
    "poll_data = pd.read_csv('china_cities_20190316.csv')\n",
    "poll_data\n",
    "poll_data_cleaned = poll_data.dropna(axis = 1)\n",
    "poll_data_cleaned\n",
    "O3_conc = poll_data_cleaned.loc[(poll_data_cleaned['hour'] == 1) & (poll_data_cleaned['type'] == 'O3') ]\n",
    "for i in range(1,24):\n",
    "    temp = poll_data_cleaned.loc[(poll_data_cleaned['hour'] == i) & (poll_data_cleaned['type'] == 'O3') ]\n",
    "    O3_conc = pd.concat([O3_conc, temp], ignore_index=True)\n",
    "O3_conc['深圳'].plot()\n",
    "plt.xlabel('Time')\n",
    "plt.ylabel('O3 concentration ppbv')\n",
    "plt.title('2019-03-16 O3 concentration')\n",
    "plt.legend(labels = ['O3'])"
   ]
  },
  {
   "cell_type": "code",
   "execution_count": 16,
   "id": "dd389977",
   "metadata": {},
   "outputs": [
    {
     "data": {
      "text/plain": [
       "北京         86.0\n",
       "天津         91.0\n",
       "石家庄       106.0\n",
       "唐山         94.0\n",
       "秦皇岛        95.0\n",
       "          ...  \n",
       "昌吉州        29.0\n",
       "阿克苏地区     176.0\n",
       "和田地区       80.0\n",
       "伊犁哈萨克州    101.0\n",
       "五家渠        26.0\n",
       "Length: 305, dtype: float64"
      ]
     },
     "execution_count": 16,
     "metadata": {},
     "output_type": "execute_result"
    }
   ],
   "source": [
    "O3_max = O3_conc.drop(['type', 'date', 'hour'], axis=1).max()\n",
    "O3_max"
   ]
  },
  {
   "cell_type": "code",
   "execution_count": 18,
   "id": "8f85aee1",
   "metadata": {},
   "outputs": [
    {
     "data": {
      "text/plain": [
       "五家渠    2.0\n",
       "金华     2.0\n",
       "巴中     2.0\n",
       "中山     2.0\n",
       "眉山     3.0\n",
       "吕梁     3.0\n",
       "邢台     3.0\n",
       "长沙     3.0\n",
       "佛山     3.0\n",
       "咸阳     3.0\n",
       "dtype: float64"
      ]
     },
     "execution_count": 18,
     "metadata": {},
     "output_type": "execute_result"
    }
   ],
   "source": [
    "O3_min = O3_conc.drop(['type', 'date', 'hour'], axis=1).min()\n",
    "O3_min.sort_values().head(10)"
   ]
  },
  {
   "cell_type": "code",
   "execution_count": 19,
   "id": "4be5c9a7",
   "metadata": {},
   "outputs": [
    {
     "data": {
      "text/plain": [
       "莆田      109.416667\n",
       "大理州     104.500000\n",
       "阿拉善盟    104.458333\n",
       "厦门      102.791667\n",
       "湛江      101.083333\n",
       "迪庆州      99.833333\n",
       "茂名       99.500000\n",
       "泉州       99.208333\n",
       "保山       98.500000\n",
       "汕头       97.583333\n",
       "dtype: float64"
      ]
     },
     "execution_count": 19,
     "metadata": {},
     "output_type": "execute_result"
    }
   ],
   "source": [
    "O3_mean = O3_conc.drop(['type', 'date', 'hour'], axis=1).mean()\n",
    "O3_mean.sort_values(ascending=False).head(10)"
   ]
  },
  {
   "cell_type": "code",
   "execution_count": 20,
   "id": "3dcca6c8",
   "metadata": {},
   "outputs": [
    {
     "data": {
      "text/plain": [
       "江门    4552.737319\n",
       "广州    4380.688406\n",
       "台州    3845.673913\n",
       "义乌    3421.606884\n",
       "金华    3399.326087\n",
       "东莞    3385.201087\n",
       "句容    3267.070652\n",
       "徐州    3065.809783\n",
       "随州    2958.253623\n",
       "佛山    2827.391304\n",
       "dtype: float64"
      ]
     },
     "execution_count": 20,
     "metadata": {},
     "output_type": "execute_result"
    }
   ],
   "source": [
    "O3_var = O3_conc.drop(['type', 'date', 'hour'], axis=1).var()\n",
    "O3_var.sort_values(ascending=False).head(10)"
   ]
  },
  {
   "cell_type": "code",
   "execution_count": 21,
   "id": "0b3d7b62",
   "metadata": {},
   "outputs": [
    {
     "data": {
      "text/plain": [
       "Text(0, 0.5, 'O3 var')"
      ]
     },
     "execution_count": 21,
     "metadata": {},
     "output_type": "execute_result"
    },
    {
     "data": {
      "image/png": "[encoded data removed]",
      "text/plain": [
       "<Figure size 640x480 with 1 Axes>"
      ]
     },
     "metadata": {},
     "output_type": "display_data"
    }
   ],
   "source": [
    "plt.scatter(O3_max, O3_var)\n",
    "plt.xlabel('O3 max ppbv')\n",
    "plt.ylabel('O3 var')"
   ]
  },
  {
   "cell_type": "code",
   "execution_count": 22,
   "id": "2f33bde2",
   "metadata": {},
   "outputs": [
    {
     "name": "stdout",
     "output_type": "stream",
     "text": [
      "0.8150119959666451\n"
     ]
    }
   ],
   "source": [
    "corr = np.corrcoef(O3_max, O3_var)[0,1]\n",
    "print(corr)"
   ]
  },
  {
   "cell_type": "markdown",
   "id": "0501e780",
   "metadata": {},
   "source": [
    "### 第三题代码输出结果正确，也在报告中展现了输出结果和相应的分析\n",
    "### 得分15/15\n"
   ]
  },
  {
   "cell_type": "code",
   "execution_count": null,
   "id": "93c5dee4",
   "metadata": {},
   "outputs": [],
   "source": []
  }
 ],
 "metadata": {
  "kernelspec": {
   "display_name": "Python 3 (ipykernel)",
   "language": "python",
   "name": "python3"
  },
  "language_info": {
   "codemirror_mode": {
    "name": "ipython",
    "version": 3
   },
   "file_extension": ".py",
   "mimetype": "text/x-python",
   "name": "python",
   "nbconvert_exporter": "python",
   "pygments_lexer": "ipython3",
   "version": "3.10.9"
  }
 },
 "nbformat": 4,
 "nbformat_minor": 5
}
