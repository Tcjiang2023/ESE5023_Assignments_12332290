{
 "cells": [
  {
   "cell_type": "markdown",
   "id": "1cd0b37a",
   "metadata": {},
   "source": [
    "Assignment 4 (due on 12/06)\n",
    "\n",
    "Student：姜天赐（12332290），Gtihub：Tcjiang2023\n",
    "\n",
    "批改人：赵淑慧\n",
    "\n",
    "得分：26/30"
   ]
  },
  {
   "cell_type": "markdown",
   "id": "4e38d672",
   "metadata": {},
   "source": [
    "# PS1. Global Earthquakes\n",
    "9/10  \n",
    "ax.scatter方法内需加个edgecolor='k'；colorbar的标签应为magnitude，刻度设置最好根据数据的最大最小值来设。"
   ]
  },
  {
   "cell_type": "markdown",
   "id": "44b42bd6",
   "metadata": {},
   "source": [
    "# PS2. Explore a netCDF dataset\n",
    "17/20  \n",
    "1. 缺少legend，见ax.legend()方法。9/10\n",
    "2. 题目要求使用另一种投影；缺少legend。8/10"
   ]
  }
 ],
 "metadata": {
  "kernelspec": {
   "display_name": "py39ta",
   "language": "python",
   "name": "ta"
  },
  "language_info": {
   "codemirror_mode": {
    "name": "ipython",
    "version": 3
   },
   "file_extension": ".py",
   "mimetype": "text/x-python",
   "name": "python",
   "nbconvert_exporter": "python",
   "pygments_lexer": "ipython3",
   "version": "3.9.18"
  }
 },
 "nbformat": 4,
 "nbformat_minor": 5
}
